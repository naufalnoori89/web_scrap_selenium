{
 "cells": [
  {
   "cell_type": "markdown",
   "metadata": {},
   "source": [
    "## Comparing shopee.com.my and lazada.com.my iPhone 11.\n",
    "\n",
    "### User guide- Follow the instructions below:\n",
    "1. Search for “iPhone 11” on the website and validate that the result is shown for the mentioned product\n",
    "2. Now, combine the outputs of both the websites and display the result in ascending order of price\n",
    "3. The output should consist of the following info: Name of the Website, Name of the product, Price of the product and Link to the product\n",
    "4. You can print the output in any reporter of your choice or even in the console"
   ]
  },
  {
   "cell_type": "markdown",
   "metadata": {},
   "source": [
    "### <u>Import relevant libraries</u> "
   ]
  },
  {
   "cell_type": "code",
   "execution_count": null,
   "metadata": {},
   "outputs": [],
   "source": [
    "pip install selenium"
   ]
  },
  {
   "cell_type": "code",
   "execution_count": 1,
   "metadata": {},
   "outputs": [],
   "source": [
    "from selenium import webdriver\n",
    "import pytest \n",
    "import sys\n",
    "import csv\n",
    "import os\n",
    "from selenium.webdriver.chrome.options import Options\n",
    "from selenium.webdriver.common.keys import Keys\n",
    "from time import sleep\n",
    "\n",
    "\n",
    "def web_scrap_shoppee():\n",
    "    \n",
    "    search_text = 'iphone 11'\n",
    "    \n",
    "    chrome_driver = webdriver.Chrome()\n",
    "    \n",
    "    chrome_driver.get('https://shopee.com.my/')\n",
    "    chrome_driver.maximize_window()\n",
    "    \n",
    "    chrome_driver.find_element_by_xpath(\"//button[contains(text(),'English')]\").click()\n",
    "    sleep(2)\n",
    "    chrome_driver.find_element_by_xpath(\"//div[@class='shopee-popup__close-btn']\").click()\n",
    "    sleep(2)\n",
    "    chrome_driver.find_element_by_xpath(\"//input[@class='shopee-searchbar-input__input']\").send_keys(search_text, Keys.ENTER)\n",
    "    sleep(2)\n",
    "    chrome_driver.find_element_by_xpath(\"//*[text()='Top Sales']\").click()\n",
    "    sleep(2)\n",
    "    \n",
    "    price = []\n",
    "    name = []\n",
    "    link = []\n",
    "    finalList = []\n",
    "    \n",
    "#     all_xpath = chrome_driver.find_elements_by_xpath(\"col-xs-2-4 shopee-search-item-result__item\")\n",
    "    priceElement = chrome_driver.find_elements_by_xpath(\"//div[@class='_32hnQt']\")\n",
    "    nameElement = chrome_driver.find_elements_by_xpath(\"//div[@class='yQmmFK _1POlWt _36CEnF']\")\n",
    "    linkElement = chrome_driver.find_elements_by_xpath(\"//a[@data-sqe='link']\")\n",
    "    \n",
    "    for val in priceElement:\n",
    "        price.append(val.text)\n",
    "    \n",
    "    for val in nameElement:\n",
    "        temp = val.text\n",
    "        strencode = temp.encode(\"ascii\", \"ignore\")\n",
    "        name.append(strencode)\n",
    "    \n",
    "    for val in linkElement:\n",
    "        link.append(val.get_attribute('href'))\n",
    "    \n",
    "    for i,k in enumerate(link):\n",
    "        temp = ['SHOPPEE', name[i], price[i], link[i]]\n",
    "        finalList.append(temp)\n",
    "\n",
    "    header = [\"Site\",\"Name\", \"Price\", \"URL\"]\n",
    "    print(\"This is SHOPPEE LIST ####======>>> \\n\", finalList)\n",
    "\n",
    "    sleep(2)\n",
    "    chrome_driver.close()\n",
    "    \n",
    "    if not os.path.exists(os.path.dirname('./output/shoppee_list.csv')):\n",
    "        print(\"Creating new dir/file...\")\n",
    "        os.makedirs(os.path.dirname('./output/shoppee_list.csv'))\n",
    "\n",
    "    with open('./output/shoppee_list.csv', \"w\", newline='') as f:\n",
    "        write = csv.writer(f)\n",
    "        write.writerow(header)\n",
    "        write.writerows(finalList)\n",
    "\n",
    "def web_scrap_lazada():\n",
    "    \n",
    "    search_text = 'iphone 11'\n",
    "    \n",
    "    chrome_driver = webdriver.Chrome()\n",
    "    \n",
    "    chrome_driver.get('https://www.lazada.com.my/')\n",
    "    chrome_driver.maximize_window()\n",
    "    chrome_driver.find_element_by_xpath(\"//input[@class='search-box__input--O34g']\").send_keys(search_text, Keys.ENTER)\n",
    "    sleep(2)\n",
    "\n",
    "    price = []\n",
    "    name = []\n",
    "    link = []\n",
    "    finalList = []\n",
    "    \n",
    "    priceElement = chrome_driver.find_elements_by_xpath(\"//div[@class='LY2Vk']\")\n",
    "    nameElement = chrome_driver.find_elements_by_xpath(\"//div[@class='_8JShU']\")\n",
    "    linkElement = chrome_driver.find_elements_by_xpath(\"//a[@age='0']\")\n",
    "    \n",
    "    for val in priceElement:\n",
    "        price.append(val.text)\n",
    "    \n",
    "    for val in nameElement:\n",
    "        temp = val.text\n",
    "        strencode = temp.encode(\"ascii\", \"ignore\")\n",
    "        name.append(strencode)\n",
    "    \n",
    "    for val in linkElement:\n",
    "        link.append(val.get_attribute('href'))\n",
    "    \n",
    "    for i,k in enumerate(price):\n",
    "        temp = ['LAZADA', name[i], price[i], link[i]]\n",
    "        finalList.append(temp)\n",
    "\n",
    "    header = [\"Site\", \"Name\", \"Price\", \"URL\"]\n",
    "    print(\"This is LAZADA LIST ####======>>> \\n\", finalList)\n",
    "\n",
    "    sleep(2)\n",
    "    chrome_driver.close()\n",
    "    \n",
    "    if not os.path.exists(os.path.dirname('./output/shoppee_list.csv')):\n",
    "        print(\"Creating new dir/file...\")\n",
    "        os.makedirs(os.path.dirname('./output/shoppee_list.csv'))\n",
    "\n",
    "    with open('./output/shoppee_list.csv', \"a\", newline='') as f:\n",
    "        write = csv.writer(f)\n",
    "        write.writerows(finalList)\n",
    "    "
   ]
  },
  {
   "cell_type": "code",
   "execution_count": 2,
   "metadata": {
    "scrolled": false
   },
   "outputs": [
    {
     "name": "stdout",
     "output_type": "stream",
     "text": [
      "This is SHOPPEE LIST ####======>>> \n",
      " [['SHOPPEE', b'Apple iPhone 11 128GB', 'RM2,684.00 - RM2,689.00', 'https://shopee.com.my/Apple-iPhone-11-128GB-i.304504082.4552579062?position=0'], ['SHOPPEE', b'[9.9 Tech Deals] Apple iPhone 11 64GB / 128GB / 256GB', 'RM2,489.00 - RM3,189.00', 'https://shopee.com.my/-9.9-Tech-Deals-Apple-iPhone-11-64GB-128GB-256GB-i.304509804.7751920122?position=1'], ['SHOPPEE', b'READY STOCKiPhone 12 Pro Max iPhone 11 iPhone x xs xr se2 iPhone 6 7 8 Plus Push pop it Bubble Sensory Soft Cover Rainbow 3D Silicone Case24 Hour delivery', 'RM5.99 - RM6.49', 'https://shopee.com.my/%E3%80%90READY-STOCK%E3%80%91iPhone-12-Pro-Max-iPhone-11-iPhone-x-xs-xr-se2-iPhone-6-7-8-Plus-Push-pop-it-Bubble-Sensory-Soft-Cover-Rainbow-3D-Silicone-Case%E3%80%9024-Hour-delivery%E3%80%91-i.268499473.3037332850?position=2'], ['SHOPPEE', b'Ready Stock Slide Camera Protect Matte Case IPhone 7/SE/7Plus/8Plus/X/Xs/Xr/Xs Max/IPhone 11/11 Pro/11 Pro Max', 'RM3.99', 'https://shopee.com.my/Ready-Stock-Slide-Camera-Protect-Matte-Case-IPhone-7-SE-7Plus-8Plus-X-Xs-Xr-Xs-Max-IPhone-11-11-Pro-11-Pro-Max-i.84661447.4958222973?position=3'], ['SHOPPEE', b'Official Caing iPhone 11 12 Pro Max Case iPhone 6 6s 7 8 Plus X XS XR SE 12 Mini SE 2020 Ins Artistic Colorful Gradient Soft TPU Cover with Apple iphone Logo', 'RM3.60 - RM3.88', 'https://shopee.com.my/Official-Caing-iPhone-11-12-Pro-Max-Case-iPhone-6-6s-7-8-Plus-X-XS-XR-SE-12-Mini-SE-2020-Ins-Artistic-Colorful-Gradient-Soft-TPU-Cover-with-Apple-iphone-Logo-i.235609210.3677405699?position=4'], ['SHOPPEE', b'Ready Stock Ultra-Thin Matte Case IPhone 7/7 Plus/Xs/Xr/Xs Max/IPhone 11/11 Pro/11 Pro Max/12/12 Pro/12 Pro Max', 'RM2.99', 'https://shopee.com.my/Ready-Stock-Ultra-Thin-Matte-Case-IPhone-7-7-Plus-Xs-Xr-Xs-Max-IPhone-11-11-Pro-11-Pro-Max-12-12-Pro-12-Pro-Max-i.84661447.9373564064?position=5'], ['SHOPPEE', b'iPhone 5 5S 6 7 8 iPhone 6 7 8Plus SE SE2 XS XR XSMax iPhone 11 11PRO 11PRO MAX 9D Full Tempered Glass', 'RM4.08', 'https://shopee.com.my/iPhone-5-5S-6-7-8-iPhone-6-7-8Plus-SE-SE2-XS-XR-XSMax-iPhone-11-11PRO-11PRO-MAX-9D-Full-Tempered-Glass-i.260170280.7033700221?position=6'], ['SHOPPEE', b'Ready Stock Starbucks Case IPhone 6/7/SE/X/Xs/Xr/Xs Max/IPhone 11/11 Pro/11 Pro Max/12 Mini/12 Pro/12 Pro Max', 'RM2.76 - RM2.89', 'https://shopee.com.my/%F0%9F%8C%9FReady-Stock%F0%9F%8C%9F-Starbucks-Case-IPhone-6-7-SE-X-Xs-Xr-Xs-Max-IPhone-11-11-Pro-11-Pro-Max-12-Mini-12-Pro-12-Pro-Max-i.358745567.8819415502?position=7'], ['SHOPPEE', b'Ready Stock Fashion Case IPhone 8/8 Plus/Xs/Xr/Xs Max/IPhone 11/11 Pro/11 Pro Max/12/12 Pro/12 Pro Max', 'RM12.99', 'https://shopee.com.my/Ready-Stock-Fashion-Case-IPhone-8-8-Plus-Xs-Xr-Xs-Max-IPhone-11-11-Pro-11-Pro-Max-12-12-Pro-12-Pro-Max-i.84661447.4576066024?position=8'], ['SHOPPEE', b'Case iPhone 11 Cartoon Cute Popsocket Case iPhone 12 Pro Max iPhone 6 6s 7 8plus X XR XS MAX Candy Macaron Colors Soft Silicone Case with Lovely Stand Holder', 'RM3.36 - RM3.48', 'https://shopee.com.my/Case-iPhone-11-Cartoon-Cute-Popsocket-Case-iPhone-12-Pro-Max-iPhone-6-6s-7-8plus-X-XR-XS-MAX-Candy-Macaron-Colors-Soft-Silicone-Case-with-Lovely-Stand-Holder-i.235609210.7162144269?position=9'], ['SHOPPEE', b'Apple iPhone 11 64GB', 'RM2,484.00 - RM2,489.00', 'https://shopee.com.my/Apple-iPhone-11-64GB-i.304504082.3452675107?position=10'], ['SHOPPEE', b'Star Wars Case iPhone 11 12 8plus 7plus iPhone 6 6s Plus 7 8 XR X XS MAX iPhone 12 Pro Max 11pro Max Trend Brand Skin Feel Fashion Cover', 'RM4.79 - RM4.87', 'https://shopee.com.my/Star-Wars-Case-iPhone-11-12-8plus-7plus-iPhone-6-6s-Plus-7-8-XR-X-XS-MAX-iPhone-12-Pro-Max-11pro-Max-Trend-Brand-Skin-Feel-Fashion-Cover-i.235609210.4362329017?position=11'], ['SHOPPEE', b'Change iPhone X/XS/XR/XSMAX seconds to the back sticker of iPhone 11/11pro/11pro max (fake back cover)', 'RM27.00\\nRM10.79', 'https://shopee.com.my/Change-iPhone-X-XS-XR-XSMAX-seconds-to-the-back-sticker-of-iPhone-11-11pro-11pro-max-(fake-back-cover)-i.161648230.4712303435?position=12'], ['SHOPPEE', b'Ready Stock Slide Camera Protect Matte Case IPhone 7/SE/7Plus/8Plus/X/Xs/Xr/Xs Max/IPhone 11/11 Pro Max/12 Pro Max', 'RM7.98 - RM8.90', 'https://shopee.com.my/Ready-Stock-Slide-Camera-Protect-Matte-Case-IPhone-7-SE-7Plus-8Plus-X-Xs-Xr-Xs-Max-IPhone-11-11-Pro-Max-12-Pro-Max-i.67404205.9216959658?position=13'], ['SHOPPEE', b'[7.7 Tech Deals] Apple iPhone 11 (64GB/128GB/256GB)', 'RM2,689.00 - RM3,189.00', 'https://shopee.com.my/-7.7-Tech-Deals-Apple-iPhone-11-(64GB-128GB-256GB)-i.438859640.3989439590?position=14']]\n",
      "This is LAZADA LIST ####======>>> \n",
      " [['LAZADA', b'PHONE 11 PRO 64GB / 256GB / 512GB ORIGINAL USED FULLSET', 'RM2,550.00', 'https://www.lazada.com.my/products/phone-11-pro-64gb-256gb-512gb-original-used-fullset-i2358774805-s10119513576.html?search=1&freeshipping=1'], ['LAZADA', b'iPhones_ XS Max (256GB) New With 1 Year Warranty Original Smartphones', 'RM2,095.00', 'https://www.lazada.com.my/products/phone-11-pro-64gb-256gb-512gb-original-used-fullset-i2358774805-s10119513576.html'], ['LAZADA', b'IPHONEs_ X (64GB/256GB) - Used Original FREE Full Set', 'RM1,195.00', 'https://www.lazada.com.my/products/phone-11-pro-64gb-256gb-512gb-original-used-fullset-i2358774805-s10119513588.html'], ['LAZADA', b'PHONE 11 PRO MAX 64GB / 256GB / 512GB ORIGINAL USED FULLSET', 'RM2,880.00', 'https://www.lazada.com.my/products/phone-11-pro-64gb-256gb-512gb-original-used-fullset-i2358774805-s10119513599.html'], ['LAZADA', b'IPHONEs_8 PLUS (64GB/256GB) - Used Original FREE Full Set', 'RM1,069.00', 'https://www.lazada.com.my/products/phone-11-pro-64gb-256gb-512gb-original-used-fullset-i2358774805-s10119513579.html'], ['LAZADA', b'PHONE 11 64GB / 128GB / 256GB ORIGINAL USED FULLSET', 'RM2,095.00', 'https://www.lazada.com.my/products/phone-11-pro-64gb-256gb-512gb-original-used-fullset-i2358774805-s10119513584.html'], ['LAZADA', b'IPHONEs_ X.R (64GB/256GB) - Used Original FREE Full Set', 'RM1,358.00', 'https://www.lazada.com.my/products/phone-11-pro-64gb-256gb-512gb-original-used-fullset-i2358774805-s10119513595.html'], ['LAZADA', b'IPHONEs_ 11 PRO MAX (64GB/256GB) - Used Original FREE Full Set', 'RM2,955.00', 'https://www.lazada.com.my/products/phone-11-pro-64gb-256gb-512gb-original-used-fullset-i2358774805-s10119513585.html'], ['LAZADA', b'iPhone_ 11 (64GB/128GB) Used 99% As Like New Original SmartPhones With Free Gift', 'RM2,119.00', 'https://www.lazada.com.my/products/phone-11-pro-64gb-256gb-512gb-original-used-fullset-i2358774805-s10119513591.html'], ['LAZADA', b'IPHONEs_ XS MAX (64GB/256GB) - Used Original FREE Full Set', 'RM1,716.00', 'https://www.lazada.com.my/products/phone-11-pro-64gb-256gb-512gb-original-used-fullset-i2358774805-s10119513576.html?search=1&freeshipping=1'], ['LAZADA', b'IPHONEs_ 11 (64GB/128GB) - Used Original FREE Full Set', 'RM2,082.00', 'https://www.lazada.com.my/products/iphones_-xs-max-256gb-new-with-1-year-warranty-original-smartphones-i2366447680-s10155196370.html?search=1'], ['LAZADA', b'IPHONEs_ XS (64GB/256GB/512GB) - Used Original FREE Full Set', 'RM1,390.00', 'https://www.lazada.com.my/products/iphones_-xs-max-256gb-new-with-1-year-warranty-original-smartphones-i2366447680-s10155196370.html'], ['LAZADA', b'Apple iPhone 11', 'RM2,689.00', 'https://www.lazada.com.my/products/iphones_-xs-max-256gb-new-with-1-year-warranty-original-smartphones-i2366447680-s10155196372.html'], ['LAZADA', b'Apple iPhone 12 Pro 256GB Free Shipping', 'RM5,219.00', 'https://www.lazada.com.my/products/iphones_-xs-max-256gb-new-with-1-year-warranty-original-smartphones-i2366447680-s10155196371.html'], ['LAZADA', b'iPhone 11 [Free Shipping] 128GB 256GB', 'RM2,689.00', 'https://www.lazada.com.my/products/iphones_-xs-max-256gb-new-with-1-year-warranty-original-smartphones-i2366447680-s10155196370.html?search=1'], ['LAZADA', b'Apple iPhone 12 mini 64GB Free Shipping', 'RM2,999.00', 'https://www.lazada.com.my/products/iphones_-x-64gb256gb-used-original-free-full-set-i2383813712-s10254232961.html?search=1'], ['LAZADA', b'Apple iPhone 11 128GB Free Shipping', 'RM2,679.00', 'https://www.lazada.com.my/products/iphones_-x-64gb256gb-used-original-free-full-set-i2383813712-s10254232961.html'], ['LAZADA', b'iPhone 12 Pro 128GB / 256GB / 512GB', 'RM5,399.00', 'https://www.lazada.com.my/products/iphones_-x-64gb256gb-used-original-free-full-set-i2383813712-s10254232963.html'], ['LAZADA', b'Original MY SET iPhone X 64GB 256GB 5.8\" Display | Face ID | lOS 14 | Dual Camera | Premium Quality Refurbished Phone with Warranty', 'RM1,280.00', 'https://www.lazada.com.my/products/iphones_-x-64gb256gb-used-original-free-full-set-i2383813712-s10254232961.html?search=1'], ['LAZADA', b'Apple iPhone 11 USED - Conditions 95% As New', 'RM2,028.00', 'https://www.lazada.com.my/products/phone-11-pro-max-64gb-256gb-512gb-original-used-fullset-i2361306807-s10130643832.html?search=1&freeshipping=1'], ['LAZADA', b'Apple iPhone 11 64GB Free Shipping', 'RM2,489.00', 'https://www.lazada.com.my/products/phone-11-pro-max-64gb-256gb-512gb-original-used-fullset-i2361306807-s10130643832.html'], ['LAZADA', b'Apple iPhone 12 Pro 512GB Free Shipping', 'RM6,039.00', 'https://www.lazada.com.my/products/phone-11-pro-max-64gb-256gb-512gb-original-used-fullset-i2361306807-s10130643840.html'], ['LAZADA', b'Apple iPhone 11', 'RM2,669.00', 'https://www.lazada.com.my/products/phone-11-pro-max-64gb-256gb-512gb-original-used-fullset-i2361306807-s10130643851.html'], ['LAZADA', b'iPhones_ XS (64GB/256GB) Used Original Smartphones Free Full Box', 'RM1,470.61', 'https://www.lazada.com.my/products/phone-11-pro-max-64gb-256gb-512gb-original-used-fullset-i2361306807-s10130643841.html'], ['LAZADA', b'iPhone11 Pro / 11 Pro Max Used - Conditions 95% As New', 'RM2,498.00', 'https://www.lazada.com.my/products/phone-11-pro-max-64gb-256gb-512gb-original-used-fullset-i2361306807-s10130643837.html'], ['LAZADA', b'Original MY SET iPhone 11 128GB 6.1\" Display | Face ID | lOS 14 | Dual Camera | Premium Quality Refurbished Phone with Warranty', 'RM2,368.00', 'https://www.lazada.com.my/products/phone-11-pro-max-64gb-256gb-512gb-original-used-fullset-i2361306807-s10130643848.html'], ['LAZADA', b'Apple iPhone 12 mini 128GB Free Shipping', 'RM3,239.00', 'https://www.lazada.com.my/products/phone-11-pro-max-64gb-256gb-512gb-original-used-fullset-i2361306807-s10130643846.html'], ['LAZADA', b'Apple iPhone 11 PRO 64GB/256GB USED', 'RM2,488.00', 'https://www.lazada.com.my/products/phone-11-pro-max-64gb-256gb-512gb-original-used-fullset-i2361306807-s10130643855.html'], ['LAZADA', b'Apple iPhone 12 mini', 'RM3,079.00', 'https://www.lazada.com.my/products/phone-11-pro-max-64gb-256gb-512gb-original-used-fullset-i2361306807-s10130643832.html?search=1&freeshipping=1'], ['LAZADA', b'Apple iPhone 11 Pro / Pro Max (95% As New)', 'RM2,498.00', 'https://www.lazada.com.my/products/iphones_8-plus-64gb256gb-used-original-free-full-set-i2383599169-s10252672035.html?search=1'], ['LAZADA', b'Apple iPhone 11 (64GB/ 128GB/ 256GB) 1 Year Apple Warranty', 'RM2,699.00', 'https://www.lazada.com.my/products/iphones_8-plus-64gb256gb-used-original-free-full-set-i2383599169-s10252672035.html'], ['LAZADA', b'iPhone 11', 'RM2,489.00', 'https://www.lazada.com.my/products/iphones_8-plus-64gb256gb-used-original-free-full-set-i2383599169-s10252672037.html'], ['LAZADA', b'Iphone_X 64/256gb Original Import Used 90% Like New Free Tempered Glass & Casing Fon Murah', 'RM1,389.00', 'https://www.lazada.com.my/products/iphones_8-plus-64gb256gb-used-original-free-full-set-i2383599169-s10252672039.html'], ['LAZADA', b'Apple iPhone 11 Pro Max 64GB 256GB 512GB', 'RM3,999.00', 'https://www.lazada.com.my/products/iphones_8-plus-64gb256gb-used-original-free-full-set-i2383599169-s10252672042.html'], ['LAZADA', b'iPhone_ 6s (64GB/128GB) New With 1 Year Warranty Original SmartPhones', 'RM526.00', 'https://www.lazada.com.my/products/iphones_8-plus-64gb256gb-used-original-free-full-set-i2383599169-s10252672035.html?search=1'], ['LAZADA', b'iPhone11 128GB WARRANTY 1 YEARS', 'RM2,930.00', 'https://www.lazada.com.my/products/phone-11-64gb-128gb-256gb-original-used-fullset-i2356922706-s10109583837.html?search=1&freeshipping=1'], ['LAZADA', b'iPhones_ 7 (32GB/128GB) Used Original Smartphones Free Full Box', 'RM526.35', 'https://www.lazada.com.my/products/phone-11-64gb-128gb-256gb-original-used-fullset-i2356922706-s10109583837.html'], ['LAZADA', b'iPhone11 _128GB/256GB Used 90% Like New', 'RM2,029.00', 'https://www.lazada.com.my/products/phone-11-64gb-128gb-256gb-original-used-fullset-i2356922706-s10109583861.html'], ['LAZADA', b'iPhones_ X (64GB/256GB) New With 1 Year Warranty Original Smartphones', 'RM1,479.00', 'https://www.lazada.com.my/products/phone-11-64gb-128gb-256gb-original-used-fullset-i2356922706-s10109583840.html'], ['LAZADA', b'iPhone_ 8 (64GB/256GB) Used 99% As Like NEW Original SmartPhones Free Full Set', 'RM761.00', 'https://www.lazada.com.my/products/phone-11-64gb-128gb-256gb-original-used-fullset-i2356922706-s10109583860.html']]\n"
     ]
    }
   ],
   "source": [
    "web_scrap_shoppee()\n",
    "web_scrap_lazada()"
   ]
  }
 ],
 "metadata": {
  "kernelspec": {
   "display_name": "python_setel",
   "language": "python",
   "name": "python_setel"
  },
  "language_info": {
   "codemirror_mode": {
    "name": "ipython",
    "version": 3
   },
   "file_extension": ".py",
   "mimetype": "text/x-python",
   "name": "python",
   "nbconvert_exporter": "python",
   "pygments_lexer": "ipython3",
   "version": "3.8.3"
  }
 },
 "nbformat": 4,
 "nbformat_minor": 4
}
